{
 "cells": [
  {
   "cell_type": "markdown",
   "metadata": {},
   "source": [
    "# TP Sytèmes de recommandation\n",
    "\n",
    "## 1 Présentation du modèle\n",
    "\n",
    "### Question 1.1\n",
    "\n",
    "*Que fait l'option `minidata` de la fonction `load_movielens` de `movielensutils.py` ?*\n"
   ]
  },
  {
   "cell_type": "code",
   "execution_count": null,
   "metadata": {},
   "outputs": [],
   "source": [
    "    if minidata is True:\n",
    "        R = R[0:100, 0:200].copy()\n",
    "        mask = mask[0:100, 0:200].copy()"
   ]
  },
  {
   "cell_type": "markdown",
   "metadata": {},
   "source": [
    "L'option `minidata` réduit les données de travail aux notes des 100 premiers utilisateurs pour les 200 premiers films."
   ]
  },
  {
   "cell_type": "markdown",
   "metadata": {},
   "source": [
    "### Question 1.2\n",
    "\n",
    "*Combien y a-t-il d'utilisateurs, de films référencés dans la base de données ? Quel est le nombre total de notes ?*\n",
    "\n",
    "Il y a :\n",
    "* 943 utilisateurs\n",
    "* 1682 films\n",
    "* 100 000 notes"
   ]
  },
  {
   "cell_type": "markdown",
   "metadata": {},
   "source": [
    "### Question 1.3\n",
    "\n",
    "*La fonction objectif est-elle convexe ?*\n",
    "\n",
    "Soit $f$ la fonction objectif.  \n",
    "\n",
    "\n",
    "*Quel est son gradient ?*\n",
    "\n",
    "$$\n",
    "\\nabla{f}(P,Q) =\n",
    "\\begin{bmatrix}\n",
    "\\nabla{f_Q} \\\\\n",
    "\\nabla{f_P}\n",
    "\\end{bmatrix}\n",
    "= \\begin{bmatrix}\n",
    "\\mathbb{1}_K \\circ (-Q^T(R - QP) + \\rho P) \\\\\n",
    "\\mathbb{1}_K \\circ (R-QP)(-P^T) + \\rho Q)\n",
    "\\end{bmatrix}\n",
    "$$\n",
    "\n",
    "*Est-il lipschitzien ? Donner la constance de Lipschitz le cas échéant.*\n",
    "\n",
    "** TODO **"
   ]
  },
  {
   "cell_type": "markdown",
   "metadata": {},
   "source": [
    "## 2 Trouver $P$ quand $Q_0$ est fixé\n",
    "\n",
    "### Question 2.1\n",
    "\n",
    "*La fonction objectif $g$ est-elle convexe ?*\n",
    "\n",
    "$g$ étant un cas particulier de la fonction objectif $f$ qui n'est pas convexe, $g$ n'est pas convexe non plus. (??? showerthought says no)\n",
    "\n",
    "*Quel est son gradient ?*\n",
    "\n",
    "$$\n",
    "TODO\n",
    "$$"
   ]
  },
  {
   "cell_type": "markdown",
   "metadata": {},
   "source": [
    "### Question 2.2"
   ]
  },
  {
   "cell_type": "code",
   "execution_count": 1,
   "metadata": {},
   "outputs": [
    {
     "ename": "SyntaxError",
     "evalue": "invalid syntax (<ipython-input-1-9a0071409f67>, line 20)",
     "output_type": "error",
     "traceback": [
      "\u001b[0;36m  File \u001b[0;32m\"<ipython-input-1-9a0071409f67>\"\u001b[0;36m, line \u001b[0;32m20\u001b[0m\n\u001b[0;31m    grad_P =\u001b[0m\n\u001b[0m             ^\u001b[0m\n\u001b[0;31mSyntaxError\u001b[0m\u001b[0;31m:\u001b[0m invalid syntax\n"
     ]
    }
   ],
   "source": [
    "def objective(P, Q0, R, mask, rho):\n",
    "    \"\"\"\n",
    "    La fonction objectif du probleme simplifie.\n",
    "    Prend en entree \n",
    "    P : la variable matricielle de taille C x I\n",
    "    Q0 : une matrice de taille U x C\n",
    "    R : une matrice de taille U x I\n",
    "    mask : une matrice 0-1 de taille U x I\n",
    "    rho : un reel positif ou nul\n",
    "\n",
    "    Sorties :\n",
    "    val : la valeur de la fonction\n",
    "    grad_P : le gradient par rapport a P\n",
    "    \"\"\"\n",
    "\n",
    "    tmp = (R - Q0.dot(P)) * mask\n",
    "\n",
    "    val = np.sum(tmp ** 2)/2. + rho/2. * (np.sum(Q0 ** 2) + np.sum(P ** 2))\n",
    "\n",
    "    grad_P = \n",
    "\n",
    "    return val, grad_P"
   ]
  }
 ],
 "metadata": {
  "kernelspec": {
   "display_name": "Python 3",
   "language": "python",
   "name": "python3"
  },
  "language_info": {
   "codemirror_mode": {
    "name": "ipython",
    "version": 3
   },
   "file_extension": ".py",
   "mimetype": "text/x-python",
   "name": "python",
   "nbconvert_exporter": "python",
   "pygments_lexer": "ipython3",
   "version": "3.6.3"
  }
 },
 "nbformat": 4,
 "nbformat_minor": 2
}
