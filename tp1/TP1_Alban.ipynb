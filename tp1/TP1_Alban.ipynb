{
 "cells": [
  {
   "cell_type": "markdown",
   "metadata": {},
   "source": [
    "# TP Sytèmes de recommandation\n",
    "\n",
    "## 1 Présentation du modèle\n",
    "\n",
    "### Question 1.1\n",
    "\n",
    "#### Que fait l'option `minidata` de la fonction `load_movielens` de `movielensutils.py` ?\n"
   ]
  },
  {
   "cell_type": "code",
   "execution_count": null,
   "metadata": {},
   "outputs": [],
   "source": [
    "    if minidata is True:\n",
    "        R = R[0:100, 0:200].copy()\n",
    "        mask = mask[0:100, 0:200].copy()"
   ]
  },
  {
   "cell_type": "markdown",
   "metadata": {},
   "source": [
    "L'option `minidata` réduit les données de travail aux notes des 100 premiers utilisateurs pour les 200 premiers films."
   ]
  },
  {
   "cell_type": "markdown",
   "metadata": {},
   "source": [
    "### Question 1.2\n",
    "\n",
    "#### Combien y a-t-il d'utilisateurs, de films référencés dans la base de données ? Quel est le nombre total de notes ?\n",
    "\n",
    "Il y a :\n",
    "* 943 utilisateurs : nombre de lignes de R\n",
    "* 1682 films : nombre de colonnes de R\n",
    "* 100 000 notes : donné par `print(np.sum(m_mask))`"
   ]
  },
  {
   "cell_type": "markdown",
   "metadata": {},
   "source": [
    "### Question 1.3\n",
    "\n",
    "#### La fonction objectif est-elle convexe ?\n",
    "\n",
    "Soit $f$ la fonction objectif :\n",
    "$$\n",
    "f: (P, Q) \\mapsto \\frac{1}{2}\\|\\mathbb{1}_K \\circ (R - QP)\\|_F^2 + \\frac{\\rho}{2}\\|P\\|_F^2 + \\frac{\\rho}{2}\\|Q\\|_F^2\n",
    "$$\n",
    "On remaque que $f$ est une forme quadratique.\n",
    "\n",
    "Fixons $\\rho = 0$ et $|U| = |C| = |I| = 1$. $f$ s'écrit alors : $f(p, q) = \\frac{1}{2}(r - qp)^2$.\n",
    "\n",
    "Soit $H(f)$ la matrice hessienne de f :\n",
    "$$\n",
    "H(f) =\n",
    "\\begin{bmatrix}\n",
    "q^2 & 2qp -r \\\\\n",
    "2qp -r & p^2\n",
    "\\end{bmatrix}\n",
    "$$\n",
    "Donc\n",
    "$$\n",
    "det(H(f)) = p^2q^2 - (2pq - r)^2 = (r - pq)(3pq - r)\n",
    "$$\n",
    "\n",
    "Pour $p = q = 0$ et $r = 1$, $det(H(f)) = -1$, la hessienne n'est donc pas définie positive, $f$ n'est donc pas convexe.\n",
    "\n",
    "#### Quel est son gradient ?\n",
    "\n",
    "$$\n",
    "\\nabla{f}(P,Q) =\n",
    "\\begin{bmatrix}\n",
    "\\nabla{f_Q} \\\\\n",
    "\\nabla{f_P}\n",
    "\\end{bmatrix}\n",
    "= \\begin{bmatrix}\n",
    "-Q^T(\\mathbb{1}_K \\circ (R - QP)) + \\rho P \\\\\n",
    "(\\mathbb{1}_K \\circ (R-QP))(-P^T) + \\rho Q\n",
    "\\end{bmatrix}\n",
    "$$\n",
    "\n",
    "#### Est-il lipschitzien ? Donner la constance de Lipschitz le cas échéant.\n",
    "\n",
    "Si le gradient était Lipschitzien la hessienne serait bornée, or ici la hessienne est un polynôme d'ordre 2, $f$ n'est donc pas de gradient Lipschitzien."
   ]
  },
  {
   "cell_type": "markdown",
   "metadata": {},
   "source": [
    "## 2 Trouver $P$ quand $Q_0$ est fixé\n",
    "$$\n",
    "g: P \\mapsto \\frac{1}{2}\\|\\mathbb{1}_K \\circ (R - Q^0P)\\|_F^2 + \\frac{\\rho}{2}\\|P\\|_F^2 + \\frac{\\rho}{2}\\|Q^0\\|_F^2\n",
    "$$"
   ]
  },
  {
   "cell_type": "markdown",
   "metadata": {},
   "source": [
    "### Question 2.1\n",
    "\n",
    "#### La fonction objectif $g$ est-elle convexe ?\n",
    "\n",
    "# TODO\n",
    "\n",
    "$P \\mapsto \\frac{\\rho}{2}\\|P\\|_F^2$ est convexe.\n",
    "\n",
    "#### Quel est son gradient ?\n",
    "\n",
    "$$\n",
    "\\nabla{g}(P) = -(Q^0)^T(\\mathbb{1}_K \\circ (R-Q^0P)) + \\rho P\n",
    "$$"
   ]
  },
  {
   "cell_type": "markdown",
   "metadata": {},
   "source": [
    "### Question 2.2"
   ]
  },
  {
   "cell_type": "code",
   "execution_count": 6,
   "metadata": {},
   "outputs": [],
   "source": [
    "def objective(P, Q0, R, mask, rho):\n",
    "    \"\"\"\n",
    "    La fonction objectif du probleme simplifie.\n",
    "    Prend en entree \n",
    "    P : la variable matricielle de taille C x I\n",
    "    Q0 : une matrice de taille U x C\n",
    "    R : une matrice de taille U x I\n",
    "    mask : une matrice 0-1 de taille U x I\n",
    "    rho : un reel positif ou nul\n",
    "\n",
    "    Sorties :\n",
    "    val : la valeur de la fonction\n",
    "    grad_P : le gradient par rapport a P\n",
    "    \"\"\"\n",
    "\n",
    "    tmp = (R - Q0.dot(P)) * mask\n",
    "\n",
    "    val = np.sum(tmp ** 2)/2. + rho/2. * (np.sum(Q0 ** 2) + np.sum(P ** 2))\n",
    "\n",
    "    grad_P = -Q0.transpose().dot(tmp) + rho*P\n",
    "\n",
    "    return val, grad_P"
   ]
  },
  {
   "cell_type": "markdown",
   "metadata": {},
   "source": [
    "### Question 2.3"
   ]
  },
  {
   "cell_type": "code",
   "execution_count": null,
   "metadata": {},
   "outputs": [],
   "source": [
    "def gradient(g, P0, gamma, epsilon):\n",
    "    \"\"\"\n",
    "    Minimise g par la méthode du gradient a pas constant.\n",
    "    Prend en entree\n",
    "    g : fonction a minimiser, Pk -> g(Pk), grad_g(Pk)\n",
    "    P0 : point de depart\n",
    "    gamma : pas constant\n",
    "    epsilon : critere d'arret, norme de Frobenius du gradient de g en Pk inferieur ou egal a epsilon\n",
    "    \n",
    "    Sorties :\n",
    "    Pk : minimiseur\n",
    "    \"\"\"\n",
    "    \n",
    "    grad_g = g(P0)[1]\n",
    "    while np.sum(grad_g**2) > epsilon:\n",
    "        Pk = Pk - gamma*grad_G\n",
    "        grad_G = g(Pk)[1]\n",
    "    \n",
    "    return Pk"
   ]
  },
  {
   "cell_type": "code",
   "execution_count": null,
   "metadata": {},
   "outputs": [],
   "source": [
    "def g(P):\n",
    "    return objective(P, Q0, R, mask, rho)\n",
    "\n",
    "L = rho + np.sum(Q0.transpose().dot(Q0)**2)\n",
    "gradient(g, P0, 1/L, epsilon)"
   ]
  },
  {
   "cell_type": "markdown",
   "metadata": {},
   "source": [
    "### Question 2.4\n",
    "\n",
    "$\\epsilon = 1$"
   ]
  },
  {
   "cell_type": "code",
   "execution_count": null,
   "metadata": {},
   "outputs": [],
   "source": []
  },
  {
   "cell_type": "markdown",
   "metadata": {},
   "source": [
    "## 3 Raffinements algorithmiques pour le problème à $Q_0$ fixé\n",
    "\n",
    "### Question 3.1"
   ]
  },
  {
   "cell_type": "code",
   "execution_count": null,
   "metadata": {},
   "outputs": [],
   "source": [
    "def gradient_linear(g, P0, epsilon):\n",
    "    \"\"\"\n",
    "    Minimise g par la méthode du gradient avec recherche lineaire.\n",
    "    Prend en entree\n",
    "    g : fonction a minimiser, Pk -> g(Pk), grad_g(Pk)\n",
    "    P0 : point de depart\n",
    "    epsilon : critere d'arret, norme de Frobenius du gradient de g en Pk inferieur ou egal a epsilon\n",
    "\n",
    "    Sorties :\n",
    "    Pk : minimiseur\n",
    "    \"\"\"\n",
    "\n",
    "    a, b, beta = 1/2, 1/2, 10**(-4) # Armijo's linear search parameters\n",
    "\n",
    "    g_Pk, grad_g = g(P0)[1]\n",
    "    while np.sum(grad_g**2) > epsilon:\n",
    "        # Armijo's linear search\n",
    "        l = 0\n",
    "        while g(Pk-b*(a^l)*grad_g) > g(Pk) - beta*b*(a^l)*np.sum(grad_g**2):\n",
    "            l++\n",
    "\n",
    "        Pk = Pk - b*(a^l)*grad_g\n",
    "        g_Pk, grad_g = g(Pk)[1]\n",
    "    \n",
    "    return Pk\n",
    "    "
   ]
  }
 ],
 "metadata": {
  "kernelspec": {
   "display_name": "Python 3",
   "language": "python",
   "name": "python3"
  },
  "language_info": {
   "codemirror_mode": {
    "name": "ipython",
    "version": 3
   },
   "file_extension": ".py",
   "mimetype": "text/x-python",
   "name": "python",
   "nbconvert_exporter": "python",
   "pygments_lexer": "ipython3",
   "version": "3.6.3"
  }
 },
 "nbformat": 4,
 "nbformat_minor": 2
}
