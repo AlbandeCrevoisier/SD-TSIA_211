{
 "cells": [
  {
   "cell_type": "markdown",
   "metadata": {},
   "source": [
    "# TP Sytèmes de recommandation\n",
    "\n",
    "## 1 Présentation du modèle\n",
    "\n",
    "### Question 1.1\n",
    "\n",
    "*Que fait l'option `minidata` de la fonction `load_movielens` de `movielensutils.py` ?*\n"
   ]
  },
  {
   "cell_type": "code",
   "execution_count": null,
   "metadata": {},
   "outputs": [],
   "source": [
    "    if minidata is True:\n",
    "        R = R[0:100, 0:200].copy()\n",
    "        mask = mask[0:100, 0:200].copy()"
   ]
  },
  {
   "cell_type": "markdown",
   "metadata": {},
   "source": [
    "Si l'option `minidata` est activée (`minidata=True`), les lignes ci-dessus de la fonction `load_movielens` extraient les 100x200 premières valeurs de la matrice R.\n",
    "\n",
    "### Question 1.2\n",
    "\n",
    "*Combien y a-t-il d'utilisateurs, de films référencés dans la base de données ? Quel est le nombre total de notes ?*\n",
    "\n",
    "Il y a :\n",
    "* 943 utilisateurs\n",
    "* 1682 films\n",
    "* 100 000 notes\n",
    "\n",
    "### Question 1.3\n",
    "\n",
    "*La fonction objectif est-elle convexe ?*\n",
    "\n",
    "Soit $f(P, Q)$ la fonction objectif. Si $f(P, Q)$ est convexe, alors en particuliers $f$ est convexe si $P$ et $Q$ sont de dimension un : on notera $f(p, q)$ ce cas. Si $f(p, q)$ est convexe, alors la seconde dérivée partielle est toujours positive, en particulier selon $p$.\n",
    "$$\n",
    "\\frac{\\partial^2 f}{\\partial p^2}(p,q) = \\frac{\\partial}{\\partial p^2}\\left[\\frac{1}{2}(r-qp)^2+\\frac{\\rho}{2}q^2+\\frac{\\rho}{2}p^2\\right]\n",
    "= \\rho-q^2\n",
    "$$\n",
    "On remarque que la dérivée partielle selon p est négative si $q>\\sqrt{\\rho}$, la fonction objectif n'est donc pas convexe.\n",
    "\n",
    "*Quel est son gradient ?*\n",
    "\n",
    "$$\n",
    "\\nabla{f}(P,Q) =\n",
    "\\begin{bmatrix}\n",
    "\\frac{\\partial{f}}{\\partial{P}}(P,Q) \\\\\n",
    "\\frac{\\partial{f}}{\\partial{Q}}(P,Q)\n",
    "\\end{bmatrix}\n",
    "= TODO\n",
    "$$\n",
    "\n",
    "*Est-il lipschitzien ? Donner la constance de Lipschitz le cas échéant.*\n",
    "\n",
    "** TODO **\n",
    "\n",
    "## 2 Trouver $P$ quand $Q_0$ est fixé\n",
    "\n",
    "### Question 2.1\n",
    "\n",
    "*La fonction objectif $g$ est-elle convexe ?*\n",
    "\n",
    "$g$ étant un cas particulier de la fonction objectif $f$ qui n'est pas convexe, $g$ n'est pas convexe non plus. (??? showerthought says no)\n",
    "\n",
    "*Quel est son gradient ?*\n",
    "\n",
    "$$\n",
    "TODO\n",
    "$$\n",
    "\n",
    "### Question 2.2"
   ]
  },
  {
   "cell_type": "code",
   "execution_count": null,
   "metadata": {},
   "outputs": [],
   "source": [
    "def objective(P, Q0, R, mask, rho):\n",
    "    \"\"\"\n",
    "    La fonction objectif du probleme simplifie.\n",
    "    Prend en entree \n",
    "    P : la variable matricielle de taille C x I\n",
    "    Q0 : une matrice de taille U x C\n",
    "    R : une matrice de taille U x I\n",
    "    mask : une matrice 0-1 de taille U x I\n",
    "    rho : un reel positif ou nul\n",
    "\n",
    "    Sorties :\n",
    "    val : la valeur de la fonction\n",
    "    grad_P : le gradient par rapport a P\n",
    "    \"\"\"\n",
    "\n",
    "    tmp = (R - Q0.dot(P)) * mask\n",
    "\n",
    "    val = np.sum(tmp ** 2)/2. + rho/2. * (np.sum(Q0 ** 2) + np.sum(P ** 2))\n",
    "\n",
    "    grad_P = \n",
    "\n",
    "    return val, grad_P"
   ]
  }
 ],
 "metadata": {
  "kernelspec": {
   "display_name": "Python 3",
   "language": "python",
   "name": "python3"
  },
  "language_info": {
   "codemirror_mode": {
    "name": "ipython",
    "version": 3
   },
   "file_extension": ".py",
   "mimetype": "text/x-python",
   "name": "python",
   "nbconvert_exporter": "python",
   "pygments_lexer": "ipython3",
   "version": "3.6.3"
  }
 },
 "nbformat": 4,
 "nbformat_minor": 2
}
