{
 "cells": [
  {
   "cell_type": "markdown",
   "metadata": {},
   "source": [
    "# Régression logistique\n",
    "\n",
    "## 1 Régularisation de de Tikhonov\n",
    "\n",
    "### Question 1.1\n",
    "\n",
    "$$\n",
    "f_1: (w_0, w) \\mapsto \\frac{1}{n}\\sum_{i=1}^nlog(1 + e^{-y_i(x_i^Tw + w_0)}) + \\frac{\\rho}{2}\\|w\\|_2^2\n",
    "$$"
   ]
  },
  {
   "cell_type": "markdown",
   "metadata": {},
   "source": [
    "#### Gradient de $f_1$\n",
    "\n",
    "$$\n",
    "\\frac{\\partial f_1}{\\partial w_0}(w_0, w) = \\frac{1}{n}\\sum_{i=1}^n\\frac{-y_ie^{-y_i(x_i^Tw+w_0)}}{1 + e^{-y_i(x_i^T+w_0)}}\n",
    "$$\n",
    "\n",
    "$$\n",
    "\\frac{\\partial f_1}{\\partial w}(w_0, w) = \\frac{1}{n}\\sum_{i=1}^n\\frac{-y_ie^{-y_i(x_i^Tw+w_0)}}{1 + e^{-y_i(x_i^T+w_0)}}x_i + \\rho w\n",
    "$$\n",
    "\n",
    "$$\n",
    "\\nabla f_1(w_0, w) = \\begin{pmatrix}\\frac{1}{n}\\sum_{i=1}^n\\frac{-y_ie^{-y_i(x_i^Tw+w_0)}}{1 + e^{-y_i(x_i^T+w_0)}} \\\\  \\frac{1}{n}\\sum_{i=1}^n\\frac{-y_ie^{-y_i(x_i^Tw+w_0)}}{1 + e^{-y_i(x_i^T+w_0)}}x_i + \\rho w\\end{pmatrix}\n",
    "$$"
   ]
  },
  {
   "cell_type": "markdown",
   "metadata": {},
   "source": [
    "#### Matrice hessienne de $f_1$\n",
    "\n",
    "$$\n",
    "\\frac{\\partial^2f_1}{\\partial w_0^2}(w_0, w) = \\frac{1}{n}\\sum_{i=1}^ny_i^2\\frac{e^{-y_i(x_i^Tw+w_0)}}{(1 + e^{-y_i(x_i^T+w_0)})^2}\n",
    "$$\n",
    "\n",
    "$$\n",
    "\\frac{\\partial^2f_1}{\\partial w^2}(w_0, w) = \\frac{1}{n}\\sum_{i=1}^ny_i^2\\frac{e^{-y_i(x_i^Tw+w_0)}}{(1 + e^{-y_i(x_i^T+w_0)})^2}x_ix_i^T + \\rho I_p\n",
    "$$\n",
    "\n",
    "$$\n",
    "\\frac{\\partial^2{f_1}}{\\partial w_0\\partial w}(w_0, w) = \\frac{1}{n}\\sum_{i=1}^ny_i^2\\frac{e^{-y_i(x_i^Tw+w_0)}}{(1 + e^{-y_i(x_i^T+w_0)})^2}x_i^T\n",
    "$$ $$\n",
    "\\frac{\\partial^2{f_1}}{\\partial w\\partial w_0}(w_0, w) = \\frac{1}{n}\\sum_{i=1}^ny_i^2\\frac{e^{-y_i(x_i^Tw+w_0)}}{(1 + e^{-y_i(x_i^T+w_0)})^2}x_i\n",
    "$$\n",
    "\n",
    "$$\n",
    "\\text{Soit H la matrice hessienne de $f_1$ : }H(f_1) = \\begin{bmatrix}\\frac{\\partial^2f_1}{\\partial w_0^2} & \\frac{\\partial^2{f_1}}{\\partial w_0\\partial w} \\\\ \\frac{\\partial^2{f_1}}{\\partial w\\partial w_0} & \\frac{\\partial^2f_1}{\\partial w^2}\\end{bmatrix} = \\begin{bmatrix}\\frac{1}{n}\\sum_{i=1}^ny_i^2\\frac{e^{-y_i(x_i^Tw+w_0)}}{(1 + e^{-y_i(x_i^T+w_0)})^2} & \\frac{1}{n}\\sum_{i=1}^ny_i^2\\frac{e^{-y_i(x_i^Tw+w_0)}}{(1 + e^{-y_i(x_i^T+w_0)})^2}x_i^T \\\\ \\frac{1}{n}\\sum_{i=1}^ny_i^2\\frac{e^{-y_i(x_i^Tw+w_0)}}{(1 + e^{-y_i(x_i^T+w_0)})^2}x_i & \\frac{1}{n}\\sum_{i=1}^ny_i^2\\frac{e^{-y_i(x_i^Tw+w_0)}}{(1 + e^{-y_i(x_i^T+w_0)})^2}x_ix_i^T + \\rho  I_p\\end{bmatrix}\n",
    "$$"
   ]
  },
  {
   "cell_type": "markdown",
   "metadata": {},
   "source": [
    "#### Convexité de $f_1$\n",
    "\n",
    "$\\|.\\|_2^2$ est convexe.  \n",
    "Soit $f: x \\mapsto log(1 + e^x)$ ; $\\frac{\\partial^2{f}}{\\partial x^2}(x) = \\frac{e^x}{(1 + e^x)^2} > 0$ donc $f$ est convexe. De plus, $(w_0, w) \\mapsto x_i^Tw + w_0$ est une fonction affine donc convexe.\n",
    "\n",
    "Ainsi, $f_1$ est convexe."
   ]
  },
  {
   "cell_type": "code",
   "execution_count": null,
   "metadata": {},
   "outputs": [],
   "source": []
  }
 ],
 "metadata": {
  "kernelspec": {
   "display_name": "Python 3",
   "language": "python",
   "name": "python3"
  },
  "language_info": {
   "codemirror_mode": {
    "name": "ipython",
    "version": 3
   },
   "file_extension": ".py",
   "mimetype": "text/x-python",
   "name": "python",
   "nbconvert_exporter": "python",
   "pygments_lexer": "ipython3",
   "version": "3.6.3"
  }
 },
 "nbformat": 4,
 "nbformat_minor": 2
}
