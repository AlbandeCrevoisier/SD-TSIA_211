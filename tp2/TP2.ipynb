{
 "cells": [
  {
   "cell_type": "markdown",
   "metadata": {},
   "source": [
    "# Régression logistique\n",
    "\n",
    "## 1 Régularisation de de Tikhonov\n",
    "\n",
    "### Question 1.1\n",
    "\n",
    "$$\n",
    "f_1: (w_0, w) \\mapsto \\frac{1}{n}\\sum_{i=1}^nlog(1 + e^{-y_i(x_i^Tw + w_0)}) + \\frac{\\rho}{2}\\|w\\|_2^2\n",
    "$$"
   ]
  },
  {
   "cell_type": "markdown",
   "metadata": {},
   "source": [
    "#### Gradient de $f_1$\n",
    "\n",
    "$$\n",
    "\\frac{\\partial f_1}{\\partial w_0}(w_0, w) = \\frac{1}{n}\\sum_{i=1}^n\\frac{-y_ie^{-y_i(x_i^Tw+w_0)}}{1 + e^{-y_i(x_i^T+w_0)}} = \\frac{1}{n}\\sum_{i=1}^n\\frac{-y_i}{1 + e^{y_i(x_i^T+w_0)}}\n",
    "$$\n",
    "\n",
    "$$\n",
    "\\frac{\\partial f_1}{\\partial w}(w_0, w) = \\frac{1}{n}\\sum_{i=1}^n\\frac{-y_ie^{-y_i(x_i^Tw+w_0)}}{1 + e^{-y_i(x_i^T+w_0)}}x_i + \\rho w = \\frac{1}{n}\\sum_{i=1}^n\\frac{-y_i}{1 + e^{y_i(x_i^T+w_0)}}x_i + \\rho w\n",
    "$$\n",
    "\n",
    "$$\n",
    "\\nabla f_1(w_0, w) = \\begin{pmatrix}\\frac{1}{n}\\sum_{i=1}^n\\frac{-y_i}{1 + e^{y_i(x_i^T+w_0)}} \\\\ \\frac{1}{n}\\sum_{i=1}^n\\frac{-y_i}{1 + e^{y_i(x_i^T+w_0)}}x_i + \\rho w\\end{pmatrix}\n",
    "$$"
   ]
  },
  {
   "cell_type": "markdown",
   "metadata": {},
   "source": [
    "#### Matrice hessienne de $f_1$\n",
    "\n",
    "$$\n",
    "\\frac{\\partial^2f_1}{\\partial w_0^2}(w_0, w) = \\frac{1}{n}\\sum_{i=1}^ny_i^2\\frac{e^{y_i(x_i^Tw+w_0)}}{(1 + e^{y_i(x_i^T+w_0)})^2}\n",
    "$$\n",
    "\n",
    "$$\n",
    "\\frac{\\partial^2f_1}{\\partial w^2}(w_0, w) = \\frac{1}{n}\\sum_{i=1}^ny_i^2\\frac{e^{y_i(x_i^Tw+w_0)}}{(1 + e^{y_i(x_i^T+w_0)})^2}x_ix_i^T + \\rho I_p\n",
    "$$\n",
    "\n",
    "$$\n",
    "\\frac{\\partial^2{f_1}}{\\partial w_0\\partial w}(w_0, w) = \\frac{1}{n}\\sum_{i=1}^ny_i^2\\frac{e^{y_i(x_i^Tw+w_0)}}{(1 + e^{y_i(x_i^T+w_0)})^2}x_i^T\n",
    "$$ $$\n",
    "\\frac{\\partial^2{f_1}}{\\partial w\\partial w_0}(w_0, w) = \\frac{1}{n}\\sum_{i=1}^ny_i^2\\frac{e^{y_i(x_i^Tw+w_0)}}{(1 + e^{y_i(x_i^T+w_0)})^2}x_i\n",
    "$$\n",
    "\n",
    "$$\n",
    "\\text{Soit H la matrice hessienne de $f_1$ : }H(f_1) = \\begin{bmatrix}\\frac{\\partial^2f_1}{\\partial w_0^2} & \\frac{\\partial^2{f_1}}{\\partial w_0\\partial w} \\\\ \\frac{\\partial^2{f_1}}{\\partial w\\partial w_0} & \\frac{\\partial^2f_1}{\\partial w^2}\\end{bmatrix} = \\begin{bmatrix}\\frac{1}{n}\\sum_{i=1}^ny_i^2\\frac{e^{y_i(x_i^Tw+w_0)}}{(1 + e^{y_i(x_i^T+w_0)})^2} & \\frac{1}{n}\\sum_{i=1}^ny_i^2\\frac{e^{y_i(x_i^Tw+w_0)}}{(1 + e^{y_i(x_i^T+w_0)})^2}x_i^T \\\\ \\frac{1}{n}\\sum_{i=1}^ny_i^2\\frac{e^{y_i(x_i^Tw+w_0)}}{(1 + e^{y_i(x_i^T+w_0)})^2}x_i & \\frac{1}{n}\\sum_{i=1}^ny_i^2\\frac{e^{y_i(x_i^Tw+w_0)}}{(1 + e^{y_i(x_i^T+w_0)})^2}x_ix_i^T + \\rho  I_p\\end{bmatrix}\n",
    "$$"
   ]
  },
  {
   "cell_type": "markdown",
   "metadata": {},
   "source": [
    "#### Convexité de $f_1$\n",
    "\n",
    "$\\|.\\|_2^2$ est convexe.  \n",
    "Soit $f: x \\mapsto log(1 + e^x)$ ; $\\frac{\\partial^2{f}}{\\partial x^2}(x) = \\frac{e^x}{(1 + e^x)^2} > 0$ donc $f$ est convexe. De plus, $(w_0, w) \\mapsto x_i^Tw + w_0$ est une fonction affine donc convexe.\n",
    "\n",
    "Ainsi, $f_1$ est convexe."
   ]
  },
  {
   "cell_type": "markdown",
   "metadata": {},
   "source": [
    "### Question 1.2"
   ]
  },
  {
   "cell_type": "code",
   "execution_count": 1,
   "metadata": {},
   "outputs": [],
   "source": [
    "import numpy as np\n",
    "from numpy.linalg import norm\n",
    "from scipy.optimize import check_grad"
   ]
  },
  {
   "cell_type": "code",
   "execution_count": 2,
   "metadata": {},
   "outputs": [],
   "source": [
    "def load_diabetic_retinopathy(filename, minidata=False):\n",
    "    \"\"\"\n",
    "    Cette fonction lit le fichier filename, par exemple\n",
    "    filename = 'diabeticRetinopathy.csv'\n",
    "    Elle retourne\n",
    "    X : une matrice de caracteristiques\n",
    "    y : un vecteur des classes tel que si y[i] = 1, la tumeur est maligne\n",
    "        et si y[i] = -1, la tumeur est benigne\n",
    "\n",
    "    Pour plus d'infos sur la base de donnees,\n",
    "    http://archive.ics.uci.edu/ml/datasets/Diabetic+Retinopathy+Debrecen+Data+Set\n",
    "    \"\"\"\n",
    "\n",
    "    data = np.loadtxt(filename, delimiter=',')\n",
    "\n",
    "    y = data[:, -1] * 2 - 1\n",
    "    X = data[:, :-1]\n",
    "\n",
    "    # Standardisation de la matrice\n",
    "    X = X - np.mean(X, axis=0)\n",
    "    X = X / np.std(X, axis=0)\n",
    "\n",
    "    return X, y"
   ]
  },
  {
   "cell_type": "code",
   "execution_count": 26,
   "metadata": {},
   "outputs": [],
   "source": [
    "import numpy as np\n",
    "from numpy.linalg import norm\n",
    "from scipy.optimize import check_grad\n",
    "\n",
    "def f1(W, X, y):\n",
    "    \"\"\"\n",
    "    Return the value of the function, the gradient, and the Hessian.\n",
    "    Input:\n",
    "    W: (w0, w) parameter for the regression\n",
    "    X: data input\n",
    "    y: data output\n",
    "    Output:\n",
    "    val: value of f1\n",
    "    grad: gradient\n",
    "    hes: Hessian\n",
    "    \"\"\"\n",
    "\n",
    "    n, p = X.shape\n",
    "    rho = 1/n\n",
    "    # Vectorization convenience.\n",
    "    X1 = np.column_stack([np.ones(n), X])\n",
    "    # Compute only once.\n",
    "    e = np.exp(y*(W.dot(X1.T)))\n",
    "    r = e / ((1 + e)**2)\n",
    "\n",
    "    val = np.log(1 + np.exp(-y*(W.dot(X1.T)))).sum()/n + rho*norm(W[1:])**2/2\n",
    "    grad = np.concatenate((\n",
    "        [-y.dot(1/(1+e))/n],\n",
    "        (-y/(1+e)).dot(X)/n + rho*W[1:]))\n",
    "    hes = np.column_stack([\n",
    "        np.concatenate(([(y**2).dot(r)/n], ((y**2)*r).dot(X)/n)),\n",
    "        np.row_stack([((y**2)*r).dot(X)/n,\n",
    "            ((y**2)*r*X.T).dot(X)/n + rho*np.eye(p)])])\n",
    "\n",
    "    return val, grad, hes"
   ]
  },
  {
   "cell_type": "markdown",
   "metadata": {},
   "source": [
    "Test du calcul du gradient :"
   ]
  },
  {
   "cell_type": "code",
   "execution_count": 27,
   "metadata": {},
   "outputs": [
    {
     "name": "stdout",
     "output_type": "stream",
     "text": [
      "8.10381131131e-08\n"
     ]
    }
   ],
   "source": [
    "from scipy.optimize import check_grad\n",
    "X, y = load_diabetic_retinopathy('diabeticRetinopathy.csv')\n",
    "n, p = X.shape\n",
    "W = np.ones(p+1)\n",
    "print(check_grad(lambda W: f1(W, X, y)[0], lambda W: f1(W, X, y)[1], W))"
   ]
  },
  {
   "cell_type": "code",
   "execution_count": null,
   "metadata": {},
   "outputs": [],
   "source": []
  }
 ],
 "metadata": {
  "kernelspec": {
   "display_name": "Python 3",
   "language": "python",
   "name": "python3"
  },
  "language_info": {
   "codemirror_mode": {
    "name": "ipython",
    "version": 3
   },
   "file_extension": ".py",
   "mimetype": "text/x-python",
   "name": "python",
   "nbconvert_exporter": "python",
   "pygments_lexer": "ipython3",
   "version": "3.6.3"
  }
 },
 "nbformat": 4,
 "nbformat_minor": 2
}
