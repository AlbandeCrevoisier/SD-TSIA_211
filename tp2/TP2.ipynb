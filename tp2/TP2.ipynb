{
 "cells": [
  {
   "cell_type": "markdown",
   "metadata": {},
   "source": [
    "# Régression logistique\n",
    "\n",
    "## 1 Régularisation de de Tikhonov\n",
    "\n",
    "### Question 1.1\n",
    "\n",
    "$$\n",
    "f_1: (w_0, w) \\mapsto \\frac{1}{n}\\sum_{i=1}^nlog(1 + e^{-y_i(x_i^Tw + w_0)}) + \\frac{\\rho}{2}\\|w\\|_2^2\n",
    "$$"
   ]
  },
  {
   "cell_type": "markdown",
   "metadata": {},
   "source": [
    "#### Gradient de $f_1$\n",
    "\n",
    "$$\n",
    "\\frac{\\partial f_1}{\\partial w_0}(w_0, w) = \\frac{1}{n}\\sum_{i=1}^n\\frac{-y_ie^{-y_i(x_i^Tw+w_0)}}{1 + e^{-y_i(x_i^T+w_0)}}\n",
    "$$\n",
    "\n",
    "$$\n",
    "\\frac{\\partial f_1}{\\partial w}(w_0, w) = \\frac{1}{n}\\sum_{i=1}^n\\frac{-y_ix_ie^{-y_i(x_i^Tw+w_0)}}{1 + e^{-y_i(x_i^T+w_0)}} + \\rho w\n",
    "$$\n",
    "\n",
    "$$\n",
    "\\nabla f_1(w_0, w) = \\begin{pmatrix}\\frac{1}{n}\\sum_{i=1}^n\\frac{-y_ie^{-y_i(x_i^Tw+w_0)}}{1 + e^{-y_i(x_i^T+w_0)}} \\\\  \\frac{1}{n}\\sum_{i=1}^n\\frac{-y_ix_ie^{-y_i(x_i^Tw+w_0)}}{1 + e^{-y_i(x_i^T+w_0)}} + \\rho w\\end{pmatrix}\n",
    "$$"
   ]
  },
  {
   "cell_type": "markdown",
   "metadata": {},
   "source": [
    "#### Matrice hessienne de $f_1$"
   ]
  },
  {
   "cell_type": "markdown",
   "metadata": {},
   "source": [
    "#### Convexité de $f_1$"
   ]
  },
  {
   "cell_type": "code",
   "execution_count": null,
   "metadata": {},
   "outputs": [],
   "source": []
  }
 ],
 "metadata": {
  "kernelspec": {
   "display_name": "Python 3",
   "language": "python",
   "name": "python3"
  },
  "language_info": {
   "codemirror_mode": {
    "name": "ipython",
    "version": 3
   },
   "file_extension": ".py",
   "mimetype": "text/x-python",
   "name": "python",
   "nbconvert_exporter": "python",
   "pygments_lexer": "ipython3",
   "version": "3.6.3"
  }
 },
 "nbformat": 4,
 "nbformat_minor": 2
}
