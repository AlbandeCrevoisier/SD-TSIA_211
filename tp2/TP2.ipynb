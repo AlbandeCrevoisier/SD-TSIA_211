{
 "cells": [
  {
   "cell_type": "markdown",
   "metadata": {},
   "source": [
    "# Régression logistique\n",
    "\n",
    "## 1 Régularisation de de Tikhonov\n",
    "\n",
    "### 1.1 Fonction, gradient et hessienne.\n",
    "\n",
    "$\n",
    "f_1: (w_0, w) \\mapsto \\frac{1}{n}\\sum_{i=1}^nlog(1 + e^{-y_i(x_i^Tw + w_0)}) + \\frac{\\rho}{2}\\|w\\|_2^2\n",
    "$"
   ]
  },
  {
   "cell_type": "markdown",
   "metadata": {},
   "source": [
    "#### Gradient de $f_1$\n",
    "\n",
    "$\\frac{\\partial f_1}{\\partial w_0}(w_0, w) = \\frac{1}{n}\\sum_{i=1}^n\\frac{-y_ie^{-y_i(x_i^Tw+w_0)}}{1 + e^{-y_i(x_i^T+w_0)}} = \\frac{1}{n}\\sum_{i=1}^n\\frac{-y_i}{1 + e^{y_i(x_i^T+w_0)}}$\n",
    "\n",
    "$\\frac{\\partial f_1}{\\partial w}(w_0, w) = \\frac{1}{n}\\sum_{i=1}^n\\frac{-y_ie^{-y_i(x_i^Tw+w_0)}}{1 + e^{-y_i(x_i^T+w_0)}}x_i + \\rho w = \\frac{1}{n}\\sum_{i=1}^n\\frac{-y_i}{1 + e^{y_i(x_i^T+w_0)}}x_i + \\rho w$\n",
    "\n",
    "$\\nabla f_1(w_0, w) = \\begin{pmatrix}\\frac{1}{n}\\sum_{i=1}^n\\frac{-y_i}{1 + e^{y_i(x_i^T+w_0)}} \\\\ \\frac{1}{n}\\sum_{i=1}^n\\frac{-y_i}{1 + e^{y_i(x_i^T+w_0)}}x_i + \\rho w\\end{pmatrix}$"
   ]
  },
  {
   "cell_type": "markdown",
   "metadata": {},
   "source": [
    "#### Matrice hessienne de $f_1$\n",
    "\n",
    "$\\frac{\\partial^2f_1}{\\partial w_0^2}(w_0, w) = \\frac{1}{n}\\sum_{i=1}^ny_i^2\\frac{e^{y_i(x_i^Tw+w_0)}}{(1 + e^{y_i(x_i^T+w_0)})^2}$\n",
    "\n",
    "$\\frac{\\partial^2f_1}{\\partial w^2}(w_0, w) = \\frac{1}{n}\\sum_{i=1}^ny_i^2\\frac{e^{y_i(x_i^Tw+w_0)}}{(1 + e^{y_i(x_i^T+w_0)})^2}x_ix_i^T + \\rho I_p$\n",
    "\n",
    "$\\frac{\\partial^2{f_1}}{\\partial w_0\\partial w}(w_0, w) = \\frac{1}{n}\\sum_{i=1}^ny_i^2\\frac{e^{y_i(x_i^Tw+w_0)}}{(1 + e^{y_i(x_i^T+w_0)})^2}x_i^T$\n",
    "\n",
    "$\\frac{\\partial^2{f_1}}{\\partial w\\partial w_0}(w_0, w) = \\frac{1}{n}\\sum_{i=1}^ny_i^2\\frac{e^{y_i(x_i^Tw+w_0)}}{(1 + e^{y_i(x_i^T+w_0)})^2}x_i$\n",
    "\n",
    "$\\text{Soit H la matrice hessienne de $f_1$ : }H(f_1) = \\begin{bmatrix}\\frac{\\partial^2f_1}{\\partial w_0^2} & \\frac{\\partial^2{f_1}}{\\partial w_0\\partial w} \\\\ \\frac{\\partial^2{f_1}}{\\partial w\\partial w_0} & \\frac{\\partial^2f_1}{\\partial w^2}\\end{bmatrix} = \\begin{bmatrix}\\frac{1}{n}\\sum_{i=1}^ny_i^2\\frac{e^{y_i(x_i^Tw+w_0)}}{(1 + e^{y_i(x_i^T+w_0)})^2} & \\frac{1}{n}\\sum_{i=1}^ny_i^2\\frac{e^{y_i(x_i^Tw+w_0)}}{(1 + e^{y_i(x_i^T+w_0)})^2}x_i^T \\\\ \\frac{1}{n}\\sum_{i=1}^ny_i^2\\frac{e^{y_i(x_i^Tw+w_0)}}{(1 + e^{y_i(x_i^T+w_0)})^2}x_i & \\frac{1}{n}\\sum_{i=1}^ny_i^2\\frac{e^{y_i(x_i^Tw+w_0)}}{(1 + e^{y_i(x_i^T+w_0)})^2}x_ix_i^T + \\rho  I_p\\end{bmatrix}$"
   ]
  },
  {
   "cell_type": "markdown",
   "metadata": {},
   "source": [
    "#### Convexité de $f_1$\n",
    "\n",
    "$\\|.\\|_2^2$ est convexe.  \n",
    "Soit $f: x \\mapsto log(1 + e^x)$ ; $\\frac{\\partial^2{f}}{\\partial x^2}(x) = \\frac{e^x}{(1 + e^x)^2} > 0$ donc $f$ est convexe. De plus, $(w_0, w) \\mapsto x_i^Tw + w_0$ est une fonction affine donc convexe.\n",
    "\n",
    "Ainsi, $f_1$ est convexe."
   ]
  },
  {
   "cell_type": "markdown",
   "metadata": {},
   "source": [
    "### 1.2 Implémentation"
   ]
  },
  {
   "cell_type": "code",
   "execution_count": 1,
   "metadata": {},
   "outputs": [],
   "source": [
    "import numpy as np\n",
    "from numpy.linalg import norm\n",
    "from numpy.linalg import inv\n",
    "from scipy.optimize import check_grad\n",
    "import matplotlib as mpl\n",
    "import matplotlib.pyplot as plt\n",
    "import seaborn as sns"
   ]
  },
  {
   "cell_type": "code",
   "execution_count": 2,
   "metadata": {},
   "outputs": [],
   "source": [
    "def load_diabetic_retinopathy(filename, minidata=False):\n",
    "    \"\"\"\n",
    "    Cette fonction lit le fichier filename, par exemple\n",
    "    filename = 'diabeticRetinopathy.csv'\n",
    "    Elle retourne\n",
    "    X : une matrice de caracteristiques\n",
    "    y : un vecteur des classes tel que si y[i] = 1, la tumeur est maligne\n",
    "        et si y[i] = -1, la tumeur est benigne\n",
    "\n",
    "    Pour plus d'infos sur la base de donnees,\n",
    "    http://archive.ics.uci.edu/ml/datasets/Diabetic+Retinopathy+Debrecen+Data+Set\n",
    "    \"\"\"\n",
    "\n",
    "    data = np.loadtxt(filename, delimiter=',')\n",
    "\n",
    "    y = data[:, -1] * 2 - 1\n",
    "    X = data[:, :-1]\n",
    "\n",
    "    # Standardisation de la matrice\n",
    "    X = X - np.mean(X, axis=0)\n",
    "    X = X / np.std(X, axis=0)\n",
    "\n",
    "    return X, y"
   ]
  },
  {
   "cell_type": "code",
   "execution_count": 3,
   "metadata": {},
   "outputs": [],
   "source": [
    "def f1(W, X, y):\n",
    "    \"\"\"\n",
    "    Return the value of the function, the gradient, and the Hessian.\n",
    "    Input:\n",
    "    W: (w0, w) parameter for the regression\n",
    "    X: data input\n",
    "    y: data output\n",
    "    Output:\n",
    "    val: value of f1\n",
    "    grad: gradient\n",
    "    hes: Hessian\n",
    "    \"\"\"\n",
    "\n",
    "    n, p = X.shape\n",
    "    rho = 1/n\n",
    "    # Vectorization convenience.\n",
    "    X1 = np.column_stack([np.ones(n), X])\n",
    "    # Compute only once.\n",
    "    e = np.exp(y*(W.dot(X1.T)))\n",
    "    r = e / ((1 + e)**2)\n",
    "\n",
    "    val = np.log(1 + np.exp(-y*(W.dot(X1.T)))).sum()/n + rho*norm(W[1:])**2/2\n",
    "    grad = np.concatenate((\n",
    "        [-y.dot(1/(1+e))/n],\n",
    "        (-y/(1+e)).dot(X)/n + rho*W[1:]))\n",
    "    hes = np.column_stack([\n",
    "        np.concatenate(([(y**2).dot(r)/n], ((y**2)*r).dot(X)/n)),\n",
    "        np.row_stack([((y**2)*r).dot(X)/n,\n",
    "            ((y**2)*r*X.T).dot(X)/n + rho*np.eye(p)])])\n",
    "\n",
    "    return val, grad, hes"
   ]
  },
  {
   "cell_type": "markdown",
   "metadata": {},
   "source": [
    "Test du calcul du gradient :"
   ]
  },
  {
   "cell_type": "code",
   "execution_count": 4,
   "metadata": {},
   "outputs": [
    {
     "name": "stdout",
     "output_type": "stream",
     "text": [
      "8.10381131131e-08\n"
     ]
    }
   ],
   "source": [
    "X, y = load_diabetic_retinopathy('diabeticRetinopathy.csv')\n",
    "n, p = X.shape\n",
    "W = np.ones(p+1)\n",
    "print(check_grad(lambda W: f1(W, X, y)[0], lambda W: f1(W, X, y)[1], W))"
   ]
  },
  {
   "cell_type": "markdown",
   "metadata": {},
   "source": [
    "L'erreur étant très proche de 0, le résultat est satisfaisant."
   ]
  },
  {
   "cell_type": "markdown",
   "metadata": {},
   "source": [
    "### 1.3 Méthode de Newton"
   ]
  },
  {
   "cell_type": "code",
   "execution_count": 5,
   "metadata": {},
   "outputs": [],
   "source": [
    "def newton(f, W0, thresh):\n",
    "    \"\"\"\n",
    "    Optimize f by the Newton's method.\n",
    "    Input:\n",
    "    f: function to be optimized\n",
    "    W0: initial condition\n",
    "    thresh: threshold for the optimization\n",
    "    Output:\n",
    "    W: minimiser\n",
    "    \"\"\"\n",
    "\n",
    "    W = W0\n",
    "    grad = f(W)[1]\n",
    "    ng = norm(grad)\n",
    "    wl = [ng]\n",
    "    while ng >= thresh:\n",
    "        W = W - grad.dot(inv(f(W)[2]))\n",
    "        grad = f(W)[1]\n",
    "        ng = norm(grad)\n",
    "        wl.append(ng)\n",
    "\n",
    "    sns.set()\n",
    "    plt.plot(wl)\n",
    "    plt.show()\n",
    "\n",
    "    return W"
   ]
  },
  {
   "cell_type": "code",
   "execution_count": 6,
   "metadata": {},
   "outputs": [
    {
     "data": {
      "image/png": "[encoded data removed]",
      "text/plain": [
       "<matplotlib.figure.Figure at 0x65f899714b70>"
      ]
     },
     "metadata": {},
     "output_type": "display_data"
    },
    {
     "data": {
      "text/plain": [
       "array([ 0.67731198,  0.28526576, -0.24554742,  5.61365006,  0.9888679 ,\n",
       "       -1.82791918, -2.55695256, -1.58747255,  0.43396361,  0.48515529,\n",
       "       -0.40441764,  0.17280405, -0.57564945,  0.43832626, -0.62435831,\n",
       "        1.25356177,  0.72621094, -0.00607139, -0.1490878 , -0.09505212])"
      ]
     },
     "execution_count": 6,
     "metadata": {},
     "output_type": "execute_result"
    }
   ],
   "source": [
    "newton(lambda W: f1(W, X, y), np.zeros(p+1), 10**-10)"
   ]
  },
  {
   "cell_type": "markdown",
   "metadata": {},
   "source": [
    "### 1.4 Méthode de Newton appliquée avec 0.3e"
   ]
  },
  {
   "cell_type": "code",
   "execution_count": 7,
   "metadata": {},
   "outputs": [
    {
     "name": "stderr",
     "output_type": "stream",
     "text": [
      "/usr/lib/python3.6/site-packages/ipykernel_launcher.py:20: RuntimeWarning: overflow encountered in square\n",
      "/usr/lib/python3.6/site-packages/ipykernel_launcher.py:19: RuntimeWarning: overflow encountered in exp\n",
      "/usr/lib/python3.6/site-packages/ipykernel_launcher.py:20: RuntimeWarning: invalid value encountered in true_divide\n",
      "/usr/lib/python3.6/site-packages/ipykernel_launcher.py:22: RuntimeWarning: overflow encountered in exp\n"
     ]
    },
    {
     "data": {
      "image/png": "[encoded data removed]",
      "text/plain": [
       "<matplotlib.figure.Figure at 0x65f89e278b00>"
      ]
     },
     "metadata": {},
     "output_type": "display_data"
    },
    {
     "data": {
      "text/plain": [
       "array([ nan,  nan,  nan,  nan,  nan,  nan,  nan,  nan,  nan,  nan,  nan,\n",
       "        nan,  nan,  nan,  nan,  nan,  nan,  nan,  nan,  nan])"
      ]
     },
     "execution_count": 7,
     "metadata": {},
     "output_type": "execute_result"
    }
   ],
   "source": [
    "newton(lambda W: f1(W, X, y), 0.3*np.ones(p+1), 10**-10)"
   ]
  },
  {
   "cell_type": "markdown",
   "metadata": {},
   "source": [
    "On observe que si la méthode de Newton converge lorsqu'elle est initialisée avec (0, 0) elle diverge pour 0.3e."
   ]
  },
  {
   "cell_type": "markdown",
   "metadata": {},
   "source": [
    "### 1.5 Recherche linéaire d'Armijo"
   ]
  },
  {
   "cell_type": "code",
   "execution_count": null,
   "metadata": {},
   "outputs": [],
   "source": [
    "def armijo(f, W0, thresh, a, b, beta):\n",
    "    \"\"\"\n",
    "    Armijo's line search\n",
    "    Input:\n",
    "    f: function to be optimized\n",
    "    W0: initial condition\n",
    "    thresh: threshold for the optimization\n",
    "    a, b, beta: parameter for Armijo's search\n",
    "    Output:\n",
    "    W: minimiser\n",
    "    \"\"\"\n",
    "\n",
    "    W = W0\n",
    "    grad = f(W)[1]\n",
    "    ng = norm(grad)\n",
    "    wl = [ng]\n",
    "    while ng >= thresh:\n",
    "        l = 0\n",
    "        while f(W-b*(a**l)*grad)[0] <= f(W)[0] + beta*grad.dot(-b*(a**l)*grad):\n",
    "            l = l+1\n",
    "        W = W - b*(a**l)*grad\n",
    "        b = 2*b*(a**l)\n",
    "        grad = f(W)[1]\n",
    "        ng = norm(grad)\n",
    "        wl.append(ng)\n",
    "\n",
    "    sns.set()\n",
    "    plt.plot(wl)\n",
    "    plt.show()\n",
    "\n",
    "    return W"
   ]
  },
  {
   "cell_type": "code",
   "execution_count": null,
   "metadata": {},
   "outputs": [],
   "source": [
    "armijo(lambda W: f1(W, X, y), np.ones(p+1), 10**-10, 1/2, 1/2, 10**(-4))"
   ]
  },
  {
   "cell_type": "markdown",
   "metadata": {},
   "source": [
    "## 2 Régularisation pour la parcimonie\n",
    "\n",
    "$\\min_{w_0\\in\\mathbb{R}, w\\in\\mathbb{R}^p}\\frac{1}{n}\\sum_{i=1}^nlog(1 + e^{-y_i(x_i^Tw + w_0)}) + \\frac{\\rho}{2}\\|w\\|_1$\n",
    "\n",
    "### 2.1 Méthode de Newton ?\n",
    "\n",
    "La norme 1 n'étant pas $\\mathit{C}^2$ on ne peut pas utiliser la méthode de Newton."
   ]
  },
  {
   "cell_type": "markdown",
   "metadata": {},
   "source": [
    "### 2.2 Décomposition de la fonction objectif\n",
    "\n",
    "$\n",
    "F_2 = f_2 + g_2 \\\\\n",
    "f_2 : (w_0, w) \\mapsto \\frac{1}{n}\\sum_{i=1}^nlog(1 + e^{-y_i(x_i^Tw + w_0)}) \\\\\n",
    "g_2 : (w_0, w) \\mapsto \\frac{\\rho}{2}\\|w\\|_1 \\\\\n",
    "prox_{g_2} : (w_0, w) \\mapsto (S_\\rho(w_0), S_\\rho(w_1), ..., S_\\rho(w_p))\n",
    "$\n",
    "\n",
    "where $S_\\rho$ is the soft threshold, i.e. :\n",
    "\n",
    "$$\n",
    "S_\\rho : x \\mapsto \\begin{cases}\n",
    "    x-\\rho & \\text{if } x>\\rho \\\\\n",
    "    x+\\rho & \\text{if } x<\\rho \\\\\n",
    "    0 & \\text{if } x \\in [-\\rho, \\rho]\\end{cases}\n",
    "$$"
   ]
  },
  {
   "cell_type": "code",
   "execution_count": null,
   "metadata": {},
   "outputs": [],
   "source": []
  }
 ],
 "metadata": {
  "kernelspec": {
   "display_name": "Python 3",
   "language": "python",
   "name": "python3"
  },
  "language_info": {
   "codemirror_mode": {
    "name": "ipython",
    "version": 3
   },
   "file_extension": ".py",
   "mimetype": "text/x-python",
   "name": "python",
   "nbconvert_exporter": "python",
   "pygments_lexer": "ipython3",
   "version": "3.6.3"
  }
 },
 "nbformat": 4,
 "nbformat_minor": 2
}
